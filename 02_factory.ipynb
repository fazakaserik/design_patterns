{
 "cells": [
  {
   "cell_type": "markdown",
   "metadata": {},
   "source": [
    "# Fish Soup"
   ]
  },
  {
   "cell_type": "code",
   "execution_count": 236,
   "metadata": {},
   "outputs": [],
   "source": [
    "from abc import ABC, abstractclassmethod\n",
    "from enum import Enum\n",
    "\n",
    "class FishSoupState(Enum):\n",
    "    UNPREPARED = 1\n",
    "    PREPARED = 2\n",
    "    COOKED = 3\n",
    "\n",
    "class FishSoupBase(ABC):\n",
    "    def __init__(self) -> None:\n",
    "        self.state = FishSoupState.UNPREPARED\n",
    "\n",
    "        self.style = None\n",
    "        self.fish = []\n",
    "        self.spices = []\n",
    "        self.extras = []\n",
    "\n",
    "    def prepare(self):\n",
    "        if self.state != FishSoupState.UNPREPARED:\n",
    "            raise RuntimeError(f\"Unable to prepare {self.style} fish soup from {self.state.name} state.\")\n",
    "        \n",
    "        index = 1\n",
    "        print(f\"Preparing {self.style} fish soup.🔪\")\n",
    "        for fish in self.fish:\n",
    "            print(f\"\\t{index}. Removing scales from {fish}.\")\n",
    "            index = index + 1\n",
    "        for spice in self.spices:\n",
    "            print(f\"\\t{index}. Sprinkling {spice}.\")\n",
    "            index = index + 1\n",
    "        for extra in self.extras:\n",
    "            print(f\"\\t{index}. Adding {extra}.\")\n",
    "            index = index + 1\n",
    "\n",
    "        self.state = FishSoupState.PREPARED\n",
    "\n",
    "    def cook(self):\n",
    "        print(f\"Cooking {self.style} fish soup.👨‍🍳\")\n",
    "        if self.state != FishSoupState.PREPARED:\n",
    "            raise RuntimeError(f\"Unable to cook {self.style} fish soup from {self.state.name} state.\")\n",
    "        self.state = FishSoupState.COOKED\n",
    "\n",
    "    def eat(self):\n",
    "        print(f\"Eating a delicious {self.style} fish soup.🥣\")\n",
    "        if self.state != FishSoupState.COOKED:\n",
    "            print(f\"Eaten uncooked {self.style} fish soup... eww!🤮\")\n"
   ]
  },
  {
   "cell_type": "markdown",
   "metadata": {},
   "source": [
    "<p align=\"center\">\n",
    "    <img src=\"images/02_factory/szegedi_halaszle.jpg\" width=\"500\"/>\n",
    "</p>"
   ]
  },
  {
   "cell_type": "code",
   "execution_count": 237,
   "metadata": {},
   "outputs": [],
   "source": [
    "class SzegediFishSoup(FishSoupBase):\n",
    "    def __init__(self) -> None:\n",
    "        super().__init__()\n",
    "        self.style = \"szegedi\"\n",
    "        self.fish = [\"carp\"]\n",
    "        self.spices = [\"paprika\", \"pepper\", \"salt\"]"
   ]
  },
  {
   "cell_type": "markdown",
   "metadata": {},
   "source": [
    "<p align=\"center\">\n",
    "    <img src=\"images/02_factory/bajai_halaszle.jpg\" width=\"500\"/>\n",
    "</p>"
   ]
  },
  {
   "cell_type": "code",
   "execution_count": 238,
   "metadata": {},
   "outputs": [],
   "source": [
    "class BajaiFishSoup(FishSoupBase):\n",
    "    def __init__(self) -> None:\n",
    "        super().__init__()\n",
    "        self.style = \"bajai\"\n",
    "        self.fish = [\"pike\", \"bass\"]\n",
    "        self.spices = [\"paprika\", \"pepper\", \"salt\"]\n",
    "        self.extras = [\"dough\"]"
   ]
  },
  {
   "cell_type": "code",
   "execution_count": 239,
   "metadata": {},
   "outputs": [],
   "source": [
    "def cookFishSoup(style: str) -> 'FishSoupBase':\n",
    "    fish_soup = None\n",
    "\n",
    "    if style == \"szegedi\":\n",
    "        fish_soup = SzegediFishSoup()\n",
    "    elif style == \"bajai\":\n",
    "        fish_soup = BajaiFishSoup()\n",
    "\n",
    "    fish_soup.prepare()\n",
    "    fish_soup.cook()\n",
    "\n",
    "    return fish_soup"
   ]
  },
  {
   "cell_type": "markdown",
   "metadata": {},
   "source": [
    "Cook your favoruite style fo fish soup and eat it!"
   ]
  },
  {
   "cell_type": "code",
   "execution_count": 240,
   "metadata": {},
   "outputs": [],
   "source": [
    "# TODO: Cook fish soup\n",
    "\n",
    "# TODO: Eat fish soup"
   ]
  },
  {
   "cell_type": "markdown",
   "metadata": {},
   "source": [
    "Introduce a new style of fish soup!"
   ]
  },
  {
   "cell_type": "code",
   "execution_count": 241,
   "metadata": {},
   "outputs": [],
   "source": [
    "# TODO: New style fish soup\n",
    "\n",
    "def cookFishSoup(style: str = \"szegedi\") -> 'FishSoupBase':\n",
    "    fish_soup = None\n",
    "\n",
    "    if style == \"szegedi\":\n",
    "        fish_soup = SzegediFishSoup()\n",
    "    elif style == \"bajai\":\n",
    "        fish_soup = BajaiFishSoup()\n",
    "    # TODO: Add new style\n",
    "\n",
    "    fish_soup.prepare()\n",
    "    fish_soup.cook()\n",
    "\n",
    "    return fish_soup"
   ]
  },
  {
   "cell_type": "markdown",
   "metadata": {},
   "source": [
    "## Encapsulating object creation"
   ]
  },
  {
   "cell_type": "markdown",
   "metadata": {},
   "source": [
    "An example for a new fish soup."
   ]
  },
  {
   "cell_type": "code",
   "execution_count": 242,
   "metadata": {},
   "outputs": [],
   "source": [
    "class SiofokiFishSoup(FishSoupBase):\n",
    "    def __init__(self) -> None:\n",
    "        super().__init__()\n",
    "        self.style = \"siófoki\"\n",
    "        self.fish = [\"hake\"]\n",
    "        self.spices = [\"paprika\", \"pepper\", \"salt\"]\n",
    "        self.extras = [\"langosh\"]"
   ]
  },
  {
   "cell_type": "code",
   "execution_count": 243,
   "metadata": {},
   "outputs": [],
   "source": [
    "class SimpleFishSoupFactory:\n",
    "    def createFishSoup(self, style: str = \"szegedi\") -> 'FishSoupBase':\n",
    "        fish_soup = None\n",
    "\n",
    "        if style == \"szegedi\":\n",
    "            fish_soup = SzegediFishSoup()\n",
    "        elif style == \"bajai\":\n",
    "            fish_soup = BajaiFishSoup()\n",
    "        elif style == \"siofoki\":\n",
    "            fish_soup == SiofokiFishSoup()\n",
    "\n",
    "        return fish_soup"
   ]
  },
  {
   "cell_type": "markdown",
   "metadata": {},
   "source": [
    "Now we can make business..."
   ]
  },
  {
   "cell_type": "code",
   "execution_count": 244,
   "metadata": {},
   "outputs": [],
   "source": [
    "class FishRestaurant:\n",
    "    def __init__(self, factory) -> None:\n",
    "        self.factory = factory\n",
    "\n",
    "    def cookFishSoup(self, style: str = \"szegedi\") -> 'FishSoupBase':\n",
    "        fish_soup = self.factory.createFishSoup(style=style)\n",
    "\n",
    "        fish_soup.prepare()\n",
    "        fish_soup.cook()\n",
    "        \n",
    "        return fish_soup"
   ]
  },
  {
   "cell_type": "markdown",
   "metadata": {},
   "source": [
    "Let's taste the new business!"
   ]
  },
  {
   "cell_type": "code",
   "execution_count": 245,
   "metadata": {},
   "outputs": [
    {
     "name": "stdout",
     "output_type": "stream",
     "text": [
      "Preparing szegedi fish soup.🔪\n",
      "\t1. Removing scales from carp.\n",
      "\t2. Sprinkling paprika.\n",
      "\t3. Sprinkling pepper.\n",
      "\t4. Sprinkling salt.\n",
      "Cooking szegedi fish soup.👨‍🍳\n",
      "Eating a delicious szegedi fish soup.🥣\n"
     ]
    }
   ],
   "source": [
    "factory = SimpleFishSoupFactory()\n",
    "restaurant = FishRestaurant(factory=factory)\n",
    "fish_soup = restaurant.cookFishSoup(style=\"szegedi\")\n",
    "fish_soup.eat()"
   ]
  },
  {
   "cell_type": "markdown",
   "metadata": {},
   "source": [
    "## Extend the restaurant to France"
   ]
  },
  {
   "cell_type": "markdown",
   "metadata": {},
   "source": [
    "Some styles of french fish soup"
   ]
  },
  {
   "cell_type": "code",
   "execution_count": 246,
   "metadata": {},
   "outputs": [],
   "source": [
    "class BouillabaisseFishSoup(FishSoupBase):\n",
    "    def __init__(self) -> None:\n",
    "        super().__init__()\n",
    "        self.style = \"Bouillabaisse\"\n",
    "        self.fish = [\"red rascasse\", \"sea robin\", \"monkfish\"]\n",
    "        self.spices = [\"saffron\", \"fennel\", \"orange zest\"]\n",
    "        self.extras = [\"rouille\", \"croutons\"]\n",
    "\n",
    "class SoupeDePoissonsFishSoup(FishSoupBase):\n",
    "    def __init__(self) -> None:\n",
    "        super().__init__()\n",
    "        self.style = \"Soupe de Poissons\"\n",
    "        self.fish = [\"rockfish\", \"gurnard\", \"conger\"]\n",
    "        self.spices = [\"garlic\", \"saffron\", \"bay leaf\"]\n",
    "        self.extras = [\"rouille\", \"grated cheese\", \"croutons\"]"
   ]
  },
  {
   "cell_type": "markdown",
   "metadata": {},
   "source": [
    "Now let's create separate regional factories"
   ]
  },
  {
   "cell_type": "code",
   "execution_count": 247,
   "metadata": {},
   "outputs": [],
   "source": [
    "class HungarianFishSoupFactory:\n",
    "    def createFishSoup(self, style: str = \"szegedi\") -> 'FishSoupBase':\n",
    "        fish_soup = None\n",
    "\n",
    "        if style == \"szegedi\":\n",
    "            fish_soup = SzegediFishSoup()\n",
    "        elif style == \"bajai\":\n",
    "            fish_soup = BajaiFishSoup()\n",
    "        elif style == \"siofoki\":\n",
    "            fish_soup == SiofokiFishSoup()\n",
    "\n",
    "        return fish_soup\n",
    "    \n",
    "class FrenchFishSoupFactory:\n",
    "    def createFishSoup(self, style: str) -> 'FishSoupBase':\n",
    "        fish_soup = None\n",
    "\n",
    "        if style == \"bouillabaisse\":\n",
    "            fish_soup = BouillabaisseFishSoup()\n",
    "        elif style == \"soupeDePoissons\":\n",
    "            fish_soup = SoupeDePoissonsFishSoup()\n",
    "\n",
    "        return fish_soup"
   ]
  },
  {
   "cell_type": "markdown",
   "metadata": {},
   "source": [
    "Let's try out the business!"
   ]
  },
  {
   "cell_type": "code",
   "execution_count": 248,
   "metadata": {},
   "outputs": [
    {
     "name": "stdout",
     "output_type": "stream",
     "text": [
      "Preparing szegedi fish soup.🔪\n",
      "\t1. Removing scales from carp.\n",
      "\t2. Sprinkling paprika.\n",
      "\t3. Sprinkling pepper.\n",
      "\t4. Sprinkling salt.\n",
      "Cooking szegedi fish soup.👨‍🍳\n",
      "Eating a delicious szegedi fish soup.🥣\n",
      "\n",
      "Preparing Soupe de Poissons fish soup.🔪\n",
      "\t1. Removing scales from rockfish.\n",
      "\t2. Removing scales from gurnard.\n",
      "\t3. Removing scales from conger.\n",
      "\t4. Sprinkling garlic.\n",
      "\t5. Sprinkling saffron.\n",
      "\t6. Sprinkling bay leaf.\n",
      "\t7. Adding rouille.\n",
      "\t8. Adding grated cheese.\n",
      "\t9. Adding croutons.\n",
      "Cooking Soupe de Poissons fish soup.👨‍🍳\n",
      "Eating a delicious Soupe de Poissons fish soup.🥣\n"
     ]
    }
   ],
   "source": [
    "hungarian_factory = HungarianFishSoupFactory()\n",
    "hungarian_restaurant = FishRestaurant(factory=hungarian_factory)\n",
    "fish_soup = hungarian_restaurant.cookFishSoup(style=\"szegedi\")\n",
    "fish_soup.eat()\n",
    "\n",
    "print()\n",
    "\n",
    "french_factory = FrenchFishSoupFactory()\n",
    "french_restaurant = FishRestaurant(factory=french_factory)\n",
    "fish_soup = french_restaurant.cookFishSoup(style=\"soupeDePoissons\")\n",
    "fish_soup.eat()"
   ]
  },
  {
   "cell_type": "markdown",
   "metadata": {},
   "source": [
    "Look at this french rat, taking the business to bankrupt...\n",
    "<p align=\"center\">\n",
    "    <img src=\"images/02_factory/ratatouille.webp\" width=\"500\"/>\n",
    "</p>"
   ]
  },
  {
   "cell_type": "code",
   "execution_count": 249,
   "metadata": {},
   "outputs": [],
   "source": [
    "class RatatouilleFishRestaurant:\n",
    "    def __init__(self, factory) -> None:\n",
    "        self.factory = factory\n",
    "\n",
    "    def cookFishSoup(self, style: str) -> 'FishSoupBase':\n",
    "        fish_soup = self.factory.createFishSoup(style=style)\n",
    "\n",
    "        fish_soup.prepare()\n",
    "        # Forgot to cook...\n",
    "        \n",
    "        return fish_soup"
   ]
  },
  {
   "cell_type": "code",
   "execution_count": 250,
   "metadata": {},
   "outputs": [
    {
     "name": "stdout",
     "output_type": "stream",
     "text": [
      "Preparing Soupe de Poissons fish soup.🔪\n",
      "\t1. Removing scales from rockfish.\n",
      "\t2. Removing scales from gurnard.\n",
      "\t3. Removing scales from conger.\n",
      "\t4. Sprinkling garlic.\n",
      "\t5. Sprinkling saffron.\n",
      "\t6. Sprinkling bay leaf.\n",
      "\t7. Adding rouille.\n",
      "\t8. Adding grated cheese.\n",
      "\t9. Adding croutons.\n",
      "Eating a delicious Soupe de Poissons fish soup.🥣\n",
      "Eaten uncooked Soupe de Poissons fish soup... eww!🤮\n"
     ]
    }
   ],
   "source": [
    "restaurant = RatatouilleFishRestaurant(factory=FrenchFishSoupFactory())\n",
    "fish_soup = restaurant.cookFishSoup(style=\"soupeDePoissons\")\n",
    "fish_soup.eat()"
   ]
  },
  {
   "cell_type": "markdown",
   "metadata": {},
   "source": [
    "Let's get the control back!"
   ]
  },
  {
   "cell_type": "code",
   "execution_count": 251,
   "metadata": {},
   "outputs": [],
   "source": [
    "class FishRestaurant(ABC):\n",
    "\n",
    "    def cookFishSoup(self, style: str = \"szegedi\") -> 'FishSoupBase':\n",
    "        fish_soup = self.createFishSoup(style=style)\n",
    "\n",
    "        fish_soup.prepare()\n",
    "        fish_soup.cook()\n",
    "        \n",
    "        return fish_soup\n",
    "    \n",
    "    @abstractclassmethod\n",
    "    def createFishSoup(style: str) -> 'FishSoupBase':\n",
    "        pass\n",
    "\n",
    "    fish_soup = None"
   ]
  },
  {
   "cell_type": "markdown",
   "metadata": {},
   "source": [
    "Now only recipes can be changed."
   ]
  },
  {
   "cell_type": "code",
   "execution_count": 252,
   "metadata": {},
   "outputs": [],
   "source": [
    "class HungarianFishRestaurant(FishRestaurant):\n",
    "    def createFishSoup(self, style: str) -> 'FishSoupBase':\n",
    "        if style == \"szegedi\":\n",
    "            fish_soup = SzegediFishSoup()\n",
    "        elif style == \"bajai\":\n",
    "            fish_soup = BajaiFishSoup()\n",
    "\n",
    "        return fish_soup\n",
    "\n",
    "class RatatouilleFishRestaurant(FishRestaurant):\n",
    "    def createFishSoup(self, style: str) -> 'FishSoupBase':\n",
    "        fish_soup = None\n",
    "\n",
    "        if style == \"bouillabaisse\":\n",
    "            fish_soup = BouillabaisseFishSoup()\n",
    "        elif style == \"soupeDePoissons\":\n",
    "            fish_soup = SoupeDePoissonsFishSoup()\n",
    "\n",
    "        return fish_soup"
   ]
  },
  {
   "cell_type": "markdown",
   "metadata": {},
   "source": [
    "Let's taste the rat's dish once again..."
   ]
  },
  {
   "cell_type": "code",
   "execution_count": 253,
   "metadata": {},
   "outputs": [
    {
     "name": "stdout",
     "output_type": "stream",
     "text": [
      "Preparing Soupe de Poissons fish soup.🔪\n",
      "\t1. Removing scales from rockfish.\n",
      "\t2. Removing scales from gurnard.\n",
      "\t3. Removing scales from conger.\n",
      "\t4. Sprinkling garlic.\n",
      "\t5. Sprinkling saffron.\n",
      "\t6. Sprinkling bay leaf.\n",
      "\t7. Adding rouille.\n",
      "\t8. Adding grated cheese.\n",
      "\t9. Adding croutons.\n",
      "Cooking Soupe de Poissons fish soup.👨‍🍳\n",
      "Eating a delicious Soupe de Poissons fish soup.🥣\n"
     ]
    }
   ],
   "source": [
    "restaurant = RatatouilleFishRestaurant()\n",
    "fish_soup = restaurant.cookFishSoup(style=\"soupeDePoissons\")\n",
    "fish_soup.eat()"
   ]
  },
  {
   "cell_type": "markdown",
   "metadata": {},
   "source": [
    "The **Factory Method Pattern** defines an interface for creating an object, but lets subclasses decide which class to instantiate. Factory Method lets a class defer instantiation to subclasses.\n",
    "<p align=\"center\">\n",
    "    <img src=\"images/02_factory/factory_diagram.png\" width=\"1000\"/>\n",
    "</p>"
   ]
  },
  {
   "cell_type": "markdown",
   "metadata": {},
   "source": [
    "# Let's forget everything you've known about OOO!\n",
    "<p align=\"center\">\n",
    "    <img src=\"images/02_factory/men_in_black.jpg\" width=\"1000\"/>\n",
    "</p>"
   ]
  },
  {
   "cell_type": "code",
   "execution_count": 254,
   "metadata": {},
   "outputs": [],
   "source": [
    "class FishRestaurant:\n",
    "    def createFishSoup(self, region: str, style: str) -> 'FishSoupBase':\n",
    "        fish_soup = None\n",
    "\n",
    "        if region == \"Hungary\":\n",
    "            if style == \"szegedi\":\n",
    "                fish_soup = SzegediFishSoup()\n",
    "            elif style == \"bajai\":\n",
    "                fish_soup = BajaiFishSoup()\n",
    "        elif region == \"France\":\n",
    "            if style == \"bouillabaisse\":\n",
    "                fish_soup = BouillabaisseFishSoup()\n",
    "            elif style == \"soupeDePoissons\":\n",
    "                fish_soup = SoupeDePoissonsFishSoup()\n",
    "\n",
    "        fish_soup.prepare()\n",
    "        fish_soup.cook()\n",
    "\n",
    "        return fish_soup"
   ]
  },
  {
   "cell_type": "markdown",
   "metadata": {},
   "source": [
    "Draw the dependencies down!\n",
    "<p align=\"center\">\n",
    "    <img src=\"images/02_factory/dependency_inversion_principle.png\" width=\"500\"/>\n",
    "</p>"
   ]
  },
  {
   "cell_type": "markdown",
   "metadata": {},
   "source": [
    "Draw down the dependencies after inversion!"
   ]
  }
 ],
 "metadata": {
  "kernelspec": {
   "display_name": ".venv",
   "language": "python",
   "name": "python3"
  },
  "language_info": {
   "codemirror_mode": {
    "name": "ipython",
    "version": 3
   },
   "file_extension": ".py",
   "mimetype": "text/x-python",
   "name": "python",
   "nbconvert_exporter": "python",
   "pygments_lexer": "ipython3",
   "version": "3.11.3"
  }
 },
 "nbformat": 4,
 "nbformat_minor": 2
}
