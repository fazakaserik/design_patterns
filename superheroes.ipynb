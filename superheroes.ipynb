{
 "cells": [
  {
   "cell_type": "markdown",
   "metadata": {},
   "source": [
    "# Superheroes"
   ]
  },
  {
   "cell_type": "code",
   "execution_count": 1,
   "metadata": {},
   "outputs": [],
   "source": [
    "from abc import ABC, abstractmethod"
   ]
  },
  {
   "cell_type": "markdown",
   "metadata": {},
   "source": [
    "\n",
    "<img src=\"images/superheroes.webp\" width=\"300\"/>"
   ]
  },
  {
   "cell_type": "code",
   "execution_count": 2,
   "metadata": {},
   "outputs": [],
   "source": [
    "class SuperheroBase(ABC):\n",
    "    def __init__(self, name: str) -> None:\n",
    "        super().__init__()\n",
    "        self.name = name\n",
    "\n",
    "    def jump(self):\n",
    "        print(f\"{self.name} jumped.\")\n",
    "\n",
    "    @abstractmethod\n",
    "    def display(self):\n",
    "        pass\n",
    "\n",
    "class IronMan(SuperheroBase):\n",
    "    def __init__(self) -> None:\n",
    "        super().__init__(\"Iron Man\")\n",
    "\n",
    "    def display(self):\n",
    "        print(f\"Displayed {self.name}.\")\n",
    "\n",
    "class Thor(SuperheroBase):\n",
    "    def __init__(self) -> None:\n",
    "        super().__init__(\"Thor\")\n",
    "\n",
    "    def display(self):\n",
    "        print(f\"Displayed {self.name}.\")\n"
   ]
  },
  {
   "cell_type": "markdown",
   "metadata": {},
   "source": [
    "Let's try it out!"
   ]
  },
  {
   "cell_type": "code",
   "execution_count": 3,
   "metadata": {},
   "outputs": [
    {
     "name": "stdout",
     "output_type": "stream",
     "text": [
      "Iron Man jumped.\n",
      "Displayed Iron Man.\n",
      "\n",
      "Thor jumped.\n",
      "Displayed Thor.\n"
     ]
    }
   ],
   "source": [
    "ironman = IronMan()\n",
    "ironman.jump()\n",
    "ironman.display()\n",
    "\n",
    "print()\n",
    "    \n",
    "thor = Thor()\n",
    "thor.jump()\n",
    "thor.display()"
   ]
  },
  {
   "cell_type": "markdown",
   "metadata": {},
   "source": [
    "## Make them fly!\n",
    "\n",
    "\n",
    "<img src=\"images/flying.png\" width=\"300\"/>"
   ]
  },
  {
   "cell_type": "code",
   "execution_count": 4,
   "metadata": {},
   "outputs": [],
   "source": [
    "class SuperheroBase(ABC):\n",
    "    def __init__(self, name: str) -> None:\n",
    "        super().__init__()\n",
    "        self.name = name\n",
    "\n",
    "    def jump(self):\n",
    "        print(f\"{self.name} jumped.\")\n",
    "\n",
    "    def fly(self):\n",
    "        print(f\"{self.name} flew.\")\n",
    "\n",
    "    @abstractmethod\n",
    "    def display(self):\n",
    "        pass\n",
    "\n",
    "class IronMan(SuperheroBase):\n",
    "    def __init__(self) -> None:\n",
    "        super().__init__(\"Iron Man\")\n",
    "\n",
    "    def display(self):\n",
    "        print(f\"Displayed {self.name}.\")\n",
    "\n",
    "class Thor(SuperheroBase):\n",
    "    def __init__(self) -> None:\n",
    "        super().__init__(\"Thor\")\n",
    "\n",
    "    def display(self):\n",
    "        print(f\"Displayed {self.name}.\")"
   ]
  },
  {
   "cell_type": "markdown",
   "metadata": {},
   "source": [
    "Let's try it out!"
   ]
  },
  {
   "cell_type": "code",
   "execution_count": 5,
   "metadata": {},
   "outputs": [
    {
     "name": "stdout",
     "output_type": "stream",
     "text": [
      "Iron Man jumped.\n",
      "Iron Man flew.\n",
      "Displayed Iron Man.\n",
      "\n",
      "Thor jumped.\n",
      "Thor flew.\n",
      "Displayed Thor.\n"
     ]
    }
   ],
   "source": [
    "ironman = IronMan()\n",
    "ironman.jump()\n",
    "ironman.fly()\n",
    "ironman.display()\n",
    "\n",
    "print()\n",
    "    \n",
    "thor = Thor()\n",
    "thor.jump()\n",
    "thor.fly()\n",
    "thor.display()"
   ]
  },
  {
   "cell_type": "markdown",
   "metadata": {},
   "source": [
    "## Add Hulk!\n",
    "\n",
    "\n",
    "<img src=\"images/hulk.webp\" width=\"300\"/>"
   ]
  },
  {
   "cell_type": "code",
   "execution_count": 6,
   "metadata": {},
   "outputs": [],
   "source": [
    "class SuperheroBase(ABC):\n",
    "    def __init__(self, name: str) -> None:\n",
    "        super().__init__()\n",
    "        self.name = name\n",
    "\n",
    "    def jump(self):\n",
    "        print(f\"{self.name} jumped.\")\n",
    "\n",
    "    def fly(self):\n",
    "        print(f\"{self.name} flew.\")\n",
    "\n",
    "    @abstractmethod\n",
    "    def display(self):\n",
    "        pass\n",
    "\n",
    "class IronMan(SuperheroBase):\n",
    "    def __init__(self) -> None:\n",
    "        super().__init__(\"Iron Man\")\n",
    "\n",
    "    def display(self):\n",
    "        print(f\"Displayed {self.name}.\")\n",
    "\n",
    "class Thor(SuperheroBase):\n",
    "    def __init__(self) -> None:\n",
    "        super().__init__(\"Thor\")\n",
    "\n",
    "    def display(self):\n",
    "        print(f\"Displayed {self.name}.\")\n",
    "\n",
    "class Hulk(SuperheroBase):\n",
    "    def __init__(self) -> None:\n",
    "        super().__init__(\"Hulk\")\n",
    "\n",
    "    def fly(self):\n",
    "        print(f\"{self.name} can't fly...\")\n",
    "\n",
    "    def display(self):\n",
    "        print(f\"Displayed {self.name}.\")"
   ]
  },
  {
   "cell_type": "markdown",
   "metadata": {},
   "source": [
    "Let's try it out!"
   ]
  },
  {
   "cell_type": "code",
   "execution_count": 7,
   "metadata": {},
   "outputs": [
    {
     "name": "stdout",
     "output_type": "stream",
     "text": [
      "Iron Man jumped.\n",
      "Iron Man flew.\n",
      "Displayed Iron Man.\n",
      "\n",
      "Thor jumped.\n",
      "Thor flew.\n",
      "Displayed Thor.\n",
      "\n",
      "Hulk jumped.\n",
      "Hulk can't fly...\n",
      "Displayed Hulk.\n",
      "\n"
     ]
    }
   ],
   "source": [
    "superheroes = [IronMan, Thor, Hulk]\n",
    "\n",
    "for superhero in superheroes:\n",
    "    superhero = superhero()\n",
    "    superhero.jump()\n",
    "    superhero.fly()\n",
    "    superhero.display()\n",
    "    print()"
   ]
  },
  {
   "cell_type": "markdown",
   "metadata": {},
   "source": [
    "## Add Professor X!\n",
    "Remember, he can't jump, neither fly, very sad.\n",
    "\n",
    "<img src=\"images/professor_x.jfif\" width=\"300\"/>"
   ]
  },
  {
   "cell_type": "markdown",
   "metadata": {},
   "source": [
    "Maybe use inheritence?"
   ]
  },
  {
   "cell_type": "code",
   "execution_count": 8,
   "metadata": {},
   "outputs": [],
   "source": [
    "class Jumpable:\n",
    "    def jump(self):\n",
    "        print(\"Jumped.\")\n",
    "\n",
    "class Flyable:\n",
    "    def fly(self):\n",
    "        print(\"Flew.\")\n",
    "\n",
    "class SuperheroBase(ABC):\n",
    "    def __init__(self, name: str) -> None:\n",
    "        super().__init__()\n",
    "        self.name = name\n",
    "\n",
    "    @abstractmethod\n",
    "    def display(self):\n",
    "        pass\n",
    "\n",
    "class IronMan(SuperheroBase, Flyable, Jumpable):\n",
    "    def __init__(self) -> None:\n",
    "        super().__init__(\"Iron Man\")\n",
    "\n",
    "    def display(self):\n",
    "        print(f\"Displayed {self.name}.\")\n",
    "\n",
    "class Thor(SuperheroBase, Flyable, Jumpable):\n",
    "    def __init__(self) -> None:\n",
    "        super().__init__(\"Thor\")\n",
    "\n",
    "    def display(self):\n",
    "        print(f\"Displayed {self.name}.\")\n",
    "\n",
    "class Hulk(SuperheroBase, Jumpable):\n",
    "    def __init__(self) -> None:\n",
    "        super().__init__(\"Hulk\")\n",
    "\n",
    "    def display(self):\n",
    "        print(f\"Displayed {self.name}.\")\n",
    "\n",
    "class ProfessorX(SuperheroBase):\n",
    "    def __init__(self) -> None:\n",
    "        super().__init__(\"Professor X\")\n",
    "\n",
    "    def display(self):\n",
    "        print(f\"Displayed {self.name}.\")"
   ]
  },
  {
   "cell_type": "markdown",
   "metadata": {},
   "source": [
    "Let's try it out!"
   ]
  },
  {
   "cell_type": "code",
   "execution_count": 9,
   "metadata": {},
   "outputs": [
    {
     "name": "stdout",
     "output_type": "stream",
     "text": [
      "Jumped.\n",
      "Flew.\n",
      "Displayed Iron Man.\n",
      "\n",
      "Jumped.\n",
      "Flew.\n",
      "Displayed Thor.\n",
      "\n",
      "Jumped.\n",
      "Displayed Hulk.\n",
      "\n",
      "Displayed Professor X.\n"
     ]
    }
   ],
   "source": [
    "ironman = IronMan()\n",
    "ironman.jump()\n",
    "ironman.fly()\n",
    "ironman.display()\n",
    "\n",
    "print()\n",
    "    \n",
    "thor = Thor()\n",
    "thor.jump()\n",
    "thor.fly()\n",
    "thor.display()\n",
    "\n",
    "print()\n",
    "    \n",
    "hulk = Hulk()\n",
    "hulk.jump()\n",
    "hulk.display()\n",
    "\n",
    "print()\n",
    "    \n",
    "professorx = ProfessorX()\n",
    "professorx.display()"
   ]
  },
  {
   "cell_type": "markdown",
   "metadata": {},
   "source": [
    "<p align=\"center\">\n",
    "    <img src=\"images/vary_dp.png\" width=\"300\"/>\n",
    "</p>"
   ]
  },
  {
   "cell_type": "markdown",
   "metadata": {},
   "source": [
    "Jump Behaviors"
   ]
  },
  {
   "cell_type": "code",
   "execution_count": 10,
   "metadata": {},
   "outputs": [],
   "source": [
    "class JumpBehavior(ABC):\n",
    "    @abstractmethod\n",
    "    def jump(self):\n",
    "        pass\n",
    "\n",
    "class Jump(JumpBehavior):\n",
    "    def jump(self):\n",
    "        print(\"Jumped.\")\n",
    "\n",
    "class JumpNoWay(JumpBehavior):\n",
    "    def jump(self):\n",
    "        print(\"Can't jump.\")"
   ]
  },
  {
   "cell_type": "markdown",
   "metadata": {},
   "source": [
    "Fly Behaviors"
   ]
  },
  {
   "cell_type": "code",
   "execution_count": 11,
   "metadata": {},
   "outputs": [],
   "source": [
    "\n",
    "class FlyBehavior(ABC):\n",
    "    @abstractmethod\n",
    "    def fly(self):\n",
    "        pass\n",
    "\n",
    "class Fly(FlyBehavior):\n",
    "    def fly(self):\n",
    "        print(\"Flew.\")\n",
    "\n",
    "class FlyNoWay(FlyBehavior):\n",
    "    def fly(self):\n",
    "        print(\"Can't fly.\")"
   ]
  },
  {
   "cell_type": "markdown",
   "metadata": {},
   "source": [
    "<p align=\"center\">\n",
    "    <img src=\"images/comp_dp.png\" width=\"300\"/>\n",
    "</p>"
   ]
  },
  {
   "cell_type": "markdown",
   "metadata": {},
   "source": [
    "Superheroes"
   ]
  },
  {
   "cell_type": "code",
   "execution_count": 12,
   "metadata": {},
   "outputs": [
    {
     "name": "stdout",
     "output_type": "stream",
     "text": [
      "Jumped.\n",
      "Flew.\n",
      "Displayed Iron Man.\n",
      "\n",
      "Jumped.\n",
      "Flew.\n",
      "Displayed Thor.\n",
      "\n",
      "Jumped.\n",
      "Can't fly.\n",
      "Displayed Hulk.\n",
      "\n",
      "Can't jump.\n",
      "Can't fly.\n",
      "Displayed Professor X.\n",
      "\n"
     ]
    }
   ],
   "source": [
    "class SuperheroBase(ABC):\n",
    "    def __init__(self, name: str) -> None:\n",
    "        super().__init__()\n",
    "        self.name = name\n",
    "        self.jump_behavior = None\n",
    "        self.fly_behavior = None\n",
    "\n",
    "    def jump(self):\n",
    "        self.jump_behavior.jump()\n",
    "\n",
    "    def fly(self):\n",
    "        self.fly_behavior.fly()\n",
    "\n",
    "    @abstractmethod\n",
    "    def display(self):\n",
    "        pass\n",
    "\n",
    "class IronMan(SuperheroBase):\n",
    "    def __init__(self) -> None:\n",
    "        super().__init__(\"Iron Man\")\n",
    "        self.jump_behavior = Jump()\n",
    "        self.fly_behavior = Fly()\n",
    "\n",
    "    def display(self):\n",
    "        print(f\"Displayed {self.name}.\")\n",
    "\n",
    "class Thor(SuperheroBase):\n",
    "    def __init__(self) -> None:\n",
    "        super().__init__(\"Thor\")\n",
    "        self.jump_behavior = Jump()\n",
    "        self.fly_behavior = Fly()\n",
    "\n",
    "    def display(self):\n",
    "        print(f\"Displayed {self.name}.\")\n",
    "\n",
    "class Hulk(SuperheroBase):\n",
    "    def __init__(self) -> None:\n",
    "        super().__init__(\"Hulk\")\n",
    "        self.jump_behavior = Jump()\n",
    "        self.fly_behavior = FlyNoWay()\n",
    "\n",
    "    def display(self):\n",
    "        print(f\"Displayed {self.name}.\")\n",
    "\n",
    "class ProfessorX(SuperheroBase):\n",
    "    def __init__(self) -> None:\n",
    "        super().__init__(\"Professor X\")\n",
    "        self.jump_behavior = JumpNoWay()\n",
    "        self.fly_behavior = FlyNoWay()\n",
    "\n",
    "    def display(self):\n",
    "        print(f\"Displayed {self.name}.\")"
   ]
  },
  {
   "cell_type": "markdown",
   "metadata": {},
   "source": [
    "Let's try it out!"
   ]
  },
  {
   "cell_type": "code",
   "execution_count": null,
   "metadata": {},
   "outputs": [],
   "source": [
    "superheroes = [IronMan, Thor, Hulk, ProfessorX]\n",
    "\n",
    "for superhero in superheroes:\n",
    "    superhero = superhero()\n",
    "    superhero.jump()\n",
    "    superhero.fly()\n",
    "    superhero.display()\n",
    "    print()"
   ]
  },
  {
   "cell_type": "markdown",
   "metadata": {},
   "source": [
    "<p align=\"center\">\n",
    "    <img src=\"images/first_pattern.png\" width=\"500\"/>\n",
    "</p>"
   ]
  },
  {
   "cell_type": "markdown",
   "metadata": {},
   "source": [
    "Do you really have to use classes in Python?\n",
    "\n",
    "\n",
    "<img src=\"images/dumb.png\" width=\"200\"/>"
   ]
  },
  {
   "cell_type": "markdown",
   "metadata": {},
   "source": [
    "Jump functions"
   ]
  },
  {
   "cell_type": "code",
   "execution_count": null,
   "metadata": {},
   "outputs": [],
   "source": [
    "def jump():\n",
    "    print(\"Jumped.\")\n",
    "\n",
    "def jumpNoWay():\n",
    "    print(\"Can't jump.\")"
   ]
  },
  {
   "cell_type": "markdown",
   "metadata": {},
   "source": [
    "Fly functions"
   ]
  },
  {
   "cell_type": "code",
   "execution_count": null,
   "metadata": {},
   "outputs": [],
   "source": [
    "def fly():\n",
    "    print(\"Flew.\")\n",
    "\n",
    "def FlyNoWay():\n",
    "    print(\"Can't fly.\")"
   ]
  },
  {
   "cell_type": "markdown",
   "metadata": {},
   "source": [
    "Superheroes"
   ]
  },
  {
   "cell_type": "code",
   "execution_count": 13,
   "metadata": {},
   "outputs": [
    {
     "name": "stdout",
     "output_type": "stream",
     "text": [
      "Jumped.\n",
      "Flew.\n",
      "Displayed Iron Man.\n",
      "\n",
      "Jumped.\n",
      "Flew.\n",
      "Displayed Thor.\n",
      "\n",
      "Jumped.\n",
      "Can't jump.\n",
      "Displayed Hulk.\n",
      "\n",
      "Can't jump.\n",
      "Can't fly.\n",
      "Displayed Professor X.\n",
      "\n"
     ]
    }
   ],
   "source": [
    "class SuperheroBase(ABC):\n",
    "    def __init__(self, name: str) -> None:\n",
    "        super().__init__()\n",
    "        self.name = name\n",
    "        self.jump_behavior = None\n",
    "        self.fly_behavior = None\n",
    "\n",
    "    def jump(self):\n",
    "        self.jump_behavior()\n",
    "\n",
    "    def fly(self):\n",
    "        self.fly_behavior()\n",
    "\n",
    "    @abstractmethod\n",
    "    def display(self):\n",
    "        pass\n",
    "\n",
    "class IronMan(SuperheroBase):\n",
    "    def __init__(self) -> None:\n",
    "        super().__init__(\"Iron Man\")\n",
    "        self.jump_behavior = jump\n",
    "        self.fly_behavior = fly\n",
    "\n",
    "    def display(self):\n",
    "        print(f\"Displayed {self.name}.\")\n",
    "\n",
    "class Thor(SuperheroBase):\n",
    "    def __init__(self) -> None:\n",
    "        super().__init__(\"Thor\")\n",
    "        self.jump_behavior = jump\n",
    "        self.fly_behavior = fly\n",
    "\n",
    "    def display(self):\n",
    "        print(f\"Displayed {self.name}.\")\n",
    "\n",
    "class Hulk(SuperheroBase):\n",
    "    def __init__(self) -> None:\n",
    "        super().__init__(\"Hulk\")\n",
    "        self.jump_behavior = jump\n",
    "        self.fly_behavior = jumpNoWay\n",
    "\n",
    "    def display(self):\n",
    "        print(f\"Displayed {self.name}.\")\n",
    "\n",
    "class ProfessorX(SuperheroBase):\n",
    "    def __init__(self) -> None:\n",
    "        super().__init__(\"Professor X\")\n",
    "        self.jump_behavior = jumpNoWay\n",
    "        self.fly_behavior = FlyNoWay\n",
    "\n",
    "    def display(self):\n",
    "        print(f\"Displayed {self.name}.\")"
   ]
  },
  {
   "cell_type": "markdown",
   "metadata": {},
   "source": [
    "Let's try it out!"
   ]
  },
  {
   "cell_type": "code",
   "execution_count": null,
   "metadata": {},
   "outputs": [],
   "source": [
    "superheroes = [IronMan, Thor, Hulk, ProfessorX]\n",
    "\n",
    "for superhero in superheroes:\n",
    "    superhero = superhero()\n",
    "    superhero.jump()\n",
    "    superhero.fly()\n",
    "    superhero.display()\n",
    "    print()"
   ]
  }
 ],
 "metadata": {
  "kernelspec": {
   "display_name": "Python 3",
   "language": "python",
   "name": "python3"
  },
  "language_info": {
   "codemirror_mode": {
    "name": "ipython",
    "version": 3
   },
   "file_extension": ".py",
   "mimetype": "text/x-python",
   "name": "python",
   "nbconvert_exporter": "python",
   "pygments_lexer": "ipython3",
   "version": "3.11.3"
  }
 },
 "nbformat": 4,
 "nbformat_minor": 2
}
